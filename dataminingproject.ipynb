{
 "cells": [
  {
   "cell_type": "code",
   "execution_count": 32,
   "metadata": {
    "collapsed": false
   },
   "outputs": [],
   "source": [
    "library(caret)\n",
    "library(pacman)\n",
    "pacman::p_load(RWeka, stringr,MASS)"
   ]
  },
  {
   "cell_type": "code",
   "execution_count": null,
   "metadata": {
    "collapsed": true
   },
   "outputs": [],
   "source": []
  },
  {
   "cell_type": "code",
   "execution_count": 18,
   "metadata": {
    "collapsed": false
   },
   "outputs": [
    {
     "data": {
      "text/html": [
       "<table>\n",
       "<thead><tr><th scope=col>x1</th><th scope=col>x2</th><th scope=col>x3</th><th scope=col>x4</th><th scope=col>x5</th><th scope=col>x6</th><th scope=col>x7</th><th scope=col>x8</th><th scope=col>x9</th><th scope=col>x10</th><th scope=col>...</th><th scope=col>x53</th><th scope=col>x54</th><th scope=col>x55</th><th scope=col>x56</th><th scope=col>x57</th><th scope=col>x58</th><th scope=col>x59</th><th scope=col>x60</th><th scope=col>x61</th><th scope=col>y</th></tr></thead>\n",
       "<tbody>\n",
       "\t<tr><td>0    </td><td>404  </td><td>1    </td><td>0    </td><td>0    </td><td>0    </td><td>0    </td><td>0    </td><td>0    </td><td>0    </td><td>...  </td><td>0    </td><td>1    </td><td>0    </td><td>1    </td><td>0    </td><td>1    </td><td>beta </td><td>0    </td><td>0    </td><td>-1   </td></tr>\n",
       "\t<tr><td>0    </td><td>404  </td><td>1    </td><td>0    </td><td>0    </td><td>0    </td><td>0    </td><td>0    </td><td>0    </td><td>0    </td><td>...  </td><td>1    </td><td>0    </td><td>0    </td><td>1    </td><td>0    </td><td>0    </td><td>beta </td><td>1    </td><td>0    </td><td>-1   </td></tr>\n",
       "\t<tr><td>0    </td><td>303  </td><td>1    </td><td>0    </td><td>0    </td><td>0    </td><td>0    </td><td>0    </td><td>0    </td><td>1    </td><td>...  </td><td>0    </td><td>0    </td><td>0    </td><td>0    </td><td>0    </td><td>0    </td><td>alpha</td><td>0    </td><td>0    </td><td>-1   </td></tr>\n",
       "\t<tr><td>0    </td><td>454  </td><td>1    </td><td>0    </td><td>0    </td><td>0    </td><td>0    </td><td>0    </td><td>0    </td><td>0    </td><td>...  </td><td>1    </td><td>1    </td><td>0    </td><td>0    </td><td>0    </td><td>1    </td><td>beta </td><td>0    </td><td>0    </td><td>-1   </td></tr>\n",
       "\t<tr><td>0    </td><td>454  </td><td>1    </td><td>0    </td><td>0    </td><td>0    </td><td>0    </td><td>0    </td><td>0    </td><td>0    </td><td>...  </td><td>0    </td><td>1    </td><td>0    </td><td>0    </td><td>0    </td><td>0    </td><td>beta </td><td>0    </td><td>1    </td><td> 1   </td></tr>\n",
       "\t<tr><td>0    </td><td>383  </td><td>1    </td><td>1    </td><td>0    </td><td>0    </td><td>0    </td><td>0    </td><td>0    </td><td>0    </td><td>...  </td><td>1    </td><td>0    </td><td>0    </td><td>0    </td><td>1    </td><td>0    </td><td>alpha</td><td>0    </td><td>0    </td><td>-1   </td></tr>\n",
       "</tbody>\n",
       "</table>\n"
      ],
      "text/latex": [
       "\\begin{tabular}{r|llllllllllllllllllllllllllllllllllllllllllllllllllllllllllllll}\n",
       " x1 & x2 & x3 & x4 & x5 & x6 & x7 & x8 & x9 & x10 & ... & x53 & x54 & x55 & x56 & x57 & x58 & x59 & x60 & x61 & y\\\\\n",
       "\\hline\n",
       "\t 0     & 404   & 1     & 0     & 0     & 0     & 0     & 0     & 0     & 0     & ...   & 0     & 1     & 0     & 1     & 0     & 1     & beta  & 0     & 0     & -1   \\\\\n",
       "\t 0     & 404   & 1     & 0     & 0     & 0     & 0     & 0     & 0     & 0     & ...   & 1     & 0     & 0     & 1     & 0     & 0     & beta  & 1     & 0     & -1   \\\\\n",
       "\t 0     & 303   & 1     & 0     & 0     & 0     & 0     & 0     & 0     & 1     & ...   & 0     & 0     & 0     & 0     & 0     & 0     & alpha & 0     & 0     & -1   \\\\\n",
       "\t 0     & 454   & 1     & 0     & 0     & 0     & 0     & 0     & 0     & 0     & ...   & 1     & 1     & 0     & 0     & 0     & 1     & beta  & 0     & 0     & -1   \\\\\n",
       "\t 0     & 454   & 1     & 0     & 0     & 0     & 0     & 0     & 0     & 0     & ...   & 0     & 1     & 0     & 0     & 0     & 0     & beta  & 0     & 1     &  1   \\\\\n",
       "\t 0     & 383   & 1     & 1     & 0     & 0     & 0     & 0     & 0     & 0     & ...   & 1     & 0     & 0     & 0     & 1     & 0     & alpha & 0     & 0     & -1   \\\\\n",
       "\\end{tabular}\n"
      ],
      "text/markdown": [
       "\n",
       "x1 | x2 | x3 | x4 | x5 | x6 | x7 | x8 | x9 | x10 | ... | x53 | x54 | x55 | x56 | x57 | x58 | x59 | x60 | x61 | y | \n",
       "|---|---|---|---|---|---|\n",
       "| 0     | 404   | 1     | 0     | 0     | 0     | 0     | 0     | 0     | 0     | ...   | 0     | 1     | 0     | 1     | 0     | 1     | beta  | 0     | 0     | -1    | \n",
       "| 0     | 404   | 1     | 0     | 0     | 0     | 0     | 0     | 0     | 0     | ...   | 1     | 0     | 0     | 1     | 0     | 0     | beta  | 1     | 0     | -1    | \n",
       "| 0     | 303   | 1     | 0     | 0     | 0     | 0     | 0     | 0     | 1     | ...   | 0     | 0     | 0     | 0     | 0     | 0     | alpha | 0     | 0     | -1    | \n",
       "| 0     | 454   | 1     | 0     | 0     | 0     | 0     | 0     | 0     | 0     | ...   | 1     | 1     | 0     | 0     | 0     | 1     | beta  | 0     | 0     | -1    | \n",
       "| 0     | 454   | 1     | 0     | 0     | 0     | 0     | 0     | 0     | 0     | ...   | 0     | 1     | 0     | 0     | 0     | 0     | beta  | 0     | 1     |  1    | \n",
       "| 0     | 383   | 1     | 1     | 0     | 0     | 0     | 0     | 0     | 0     | ...   | 1     | 0     | 0     | 0     | 1     | 0     | alpha | 0     | 0     | -1    | \n",
       "\n",
       "\n"
      ],
      "text/plain": [
       "  x1 x2  x3 x4 x5 x6 x7 x8 x9 x10 ... x53 x54 x55 x56 x57 x58 x59   x60 x61 y \n",
       "1 0  404 1  0  0  0  0  0  0  0   ... 0   1   0   1   0   1   beta  0   0   -1\n",
       "2 0  404 1  0  0  0  0  0  0  0   ... 1   0   0   1   0   0   beta  1   0   -1\n",
       "3 0  303 1  0  0  0  0  0  0  1   ... 0   0   0   0   0   0   alpha 0   0   -1\n",
       "4 0  454 1  0  0  0  0  0  0  0   ... 1   1   0   0   0   1   beta  0   0   -1\n",
       "5 0  454 1  0  0  0  0  0  0  0   ... 0   1   0   0   0   0   beta  0   1    1\n",
       "6 0  383 1  1  0  0  0  0  0  0   ... 1   0   0   0   1   0   alpha 0   0   -1"
      ]
     },
     "metadata": {},
     "output_type": "display_data"
    },
    {
     "data": {
      "text/html": [
       "<ol class=list-inline>\n",
       "\t<li>'x1'</li>\n",
       "\t<li>'x2'</li>\n",
       "\t<li>'x3'</li>\n",
       "\t<li>'x4'</li>\n",
       "\t<li>'x5'</li>\n",
       "\t<li>'x6'</li>\n",
       "\t<li>'x7'</li>\n",
       "\t<li>'x8'</li>\n",
       "\t<li>'x9'</li>\n",
       "\t<li>'x10'</li>\n",
       "\t<li>'x11'</li>\n",
       "\t<li>'x12'</li>\n",
       "\t<li>'x13'</li>\n",
       "\t<li>'x14'</li>\n",
       "\t<li>'x15'</li>\n",
       "\t<li>'x16'</li>\n",
       "\t<li>'x17'</li>\n",
       "\t<li>'x18'</li>\n",
       "\t<li>'x19'</li>\n",
       "\t<li>'x20'</li>\n",
       "\t<li>'x21'</li>\n",
       "\t<li>'x22'</li>\n",
       "\t<li>'x23'</li>\n",
       "\t<li>'x24'</li>\n",
       "\t<li>'x25'</li>\n",
       "\t<li>'x26'</li>\n",
       "\t<li>'x27'</li>\n",
       "\t<li>'x28'</li>\n",
       "\t<li>'x29'</li>\n",
       "\t<li>'x30'</li>\n",
       "\t<li>'x31'</li>\n",
       "\t<li>'x32'</li>\n",
       "\t<li>'x33'</li>\n",
       "\t<li>'x34'</li>\n",
       "\t<li>'x35'</li>\n",
       "\t<li>'x36'</li>\n",
       "\t<li>'x37'</li>\n",
       "\t<li>'x38'</li>\n",
       "\t<li>'x39'</li>\n",
       "\t<li>'x40'</li>\n",
       "\t<li>'x41'</li>\n",
       "\t<li>'x42'</li>\n",
       "\t<li>'x43'</li>\n",
       "\t<li>'x44'</li>\n",
       "\t<li>'x45'</li>\n",
       "\t<li>'x46'</li>\n",
       "\t<li>'x47'</li>\n",
       "\t<li>'x48'</li>\n",
       "\t<li>'x49'</li>\n",
       "\t<li>'x50'</li>\n",
       "\t<li>'x51'</li>\n",
       "\t<li>'x52'</li>\n",
       "\t<li>'x53'</li>\n",
       "\t<li>'x54'</li>\n",
       "\t<li>'x55'</li>\n",
       "\t<li>'x56'</li>\n",
       "\t<li>'x57'</li>\n",
       "\t<li>'x58'</li>\n",
       "\t<li>'x59'</li>\n",
       "\t<li>'x60'</li>\n",
       "\t<li>'x61'</li>\n",
       "\t<li>'y'</li>\n",
       "</ol>\n"
      ],
      "text/latex": [
       "\\begin{enumerate*}\n",
       "\\item 'x1'\n",
       "\\item 'x2'\n",
       "\\item 'x3'\n",
       "\\item 'x4'\n",
       "\\item 'x5'\n",
       "\\item 'x6'\n",
       "\\item 'x7'\n",
       "\\item 'x8'\n",
       "\\item 'x9'\n",
       "\\item 'x10'\n",
       "\\item 'x11'\n",
       "\\item 'x12'\n",
       "\\item 'x13'\n",
       "\\item 'x14'\n",
       "\\item 'x15'\n",
       "\\item 'x16'\n",
       "\\item 'x17'\n",
       "\\item 'x18'\n",
       "\\item 'x19'\n",
       "\\item 'x20'\n",
       "\\item 'x21'\n",
       "\\item 'x22'\n",
       "\\item 'x23'\n",
       "\\item 'x24'\n",
       "\\item 'x25'\n",
       "\\item 'x26'\n",
       "\\item 'x27'\n",
       "\\item 'x28'\n",
       "\\item 'x29'\n",
       "\\item 'x30'\n",
       "\\item 'x31'\n",
       "\\item 'x32'\n",
       "\\item 'x33'\n",
       "\\item 'x34'\n",
       "\\item 'x35'\n",
       "\\item 'x36'\n",
       "\\item 'x37'\n",
       "\\item 'x38'\n",
       "\\item 'x39'\n",
       "\\item 'x40'\n",
       "\\item 'x41'\n",
       "\\item 'x42'\n",
       "\\item 'x43'\n",
       "\\item 'x44'\n",
       "\\item 'x45'\n",
       "\\item 'x46'\n",
       "\\item 'x47'\n",
       "\\item 'x48'\n",
       "\\item 'x49'\n",
       "\\item 'x50'\n",
       "\\item 'x51'\n",
       "\\item 'x52'\n",
       "\\item 'x53'\n",
       "\\item 'x54'\n",
       "\\item 'x55'\n",
       "\\item 'x56'\n",
       "\\item 'x57'\n",
       "\\item 'x58'\n",
       "\\item 'x59'\n",
       "\\item 'x60'\n",
       "\\item 'x61'\n",
       "\\item 'y'\n",
       "\\end{enumerate*}\n"
      ],
      "text/markdown": [
       "1. 'x1'\n",
       "2. 'x2'\n",
       "3. 'x3'\n",
       "4. 'x4'\n",
       "5. 'x5'\n",
       "6. 'x6'\n",
       "7. 'x7'\n",
       "8. 'x8'\n",
       "9. 'x9'\n",
       "10. 'x10'\n",
       "11. 'x11'\n",
       "12. 'x12'\n",
       "13. 'x13'\n",
       "14. 'x14'\n",
       "15. 'x15'\n",
       "16. 'x16'\n",
       "17. 'x17'\n",
       "18. 'x18'\n",
       "19. 'x19'\n",
       "20. 'x20'\n",
       "21. 'x21'\n",
       "22. 'x22'\n",
       "23. 'x23'\n",
       "24. 'x24'\n",
       "25. 'x25'\n",
       "26. 'x26'\n",
       "27. 'x27'\n",
       "28. 'x28'\n",
       "29. 'x29'\n",
       "30. 'x30'\n",
       "31. 'x31'\n",
       "32. 'x32'\n",
       "33. 'x33'\n",
       "34. 'x34'\n",
       "35. 'x35'\n",
       "36. 'x36'\n",
       "37. 'x37'\n",
       "38. 'x38'\n",
       "39. 'x39'\n",
       "40. 'x40'\n",
       "41. 'x41'\n",
       "42. 'x42'\n",
       "43. 'x43'\n",
       "44. 'x44'\n",
       "45. 'x45'\n",
       "46. 'x46'\n",
       "47. 'x47'\n",
       "48. 'x48'\n",
       "49. 'x49'\n",
       "50. 'x50'\n",
       "51. 'x51'\n",
       "52. 'x52'\n",
       "53. 'x53'\n",
       "54. 'x54'\n",
       "55. 'x55'\n",
       "56. 'x56'\n",
       "57. 'x57'\n",
       "58. 'x58'\n",
       "59. 'x59'\n",
       "60. 'x60'\n",
       "61. 'x61'\n",
       "62. 'y'\n",
       "\n",
       "\n"
      ],
      "text/plain": [
       " [1] \"x1\"  \"x2\"  \"x3\"  \"x4\"  \"x5\"  \"x6\"  \"x7\"  \"x8\"  \"x9\"  \"x10\" \"x11\" \"x12\"\n",
       "[13] \"x13\" \"x14\" \"x15\" \"x16\" \"x17\" \"x18\" \"x19\" \"x20\" \"x21\" \"x22\" \"x23\" \"x24\"\n",
       "[25] \"x25\" \"x26\" \"x27\" \"x28\" \"x29\" \"x30\" \"x31\" \"x32\" \"x33\" \"x34\" \"x35\" \"x36\"\n",
       "[37] \"x37\" \"x38\" \"x39\" \"x40\" \"x41\" \"x42\" \"x43\" \"x44\" \"x45\" \"x46\" \"x47\" \"x48\"\n",
       "[49] \"x49\" \"x50\" \"x51\" \"x52\" \"x53\" \"x54\" \"x55\" \"x56\" \"x57\" \"x58\" \"x59\" \"x60\"\n",
       "[61] \"x61\" \"y\"  "
      ]
     },
     "metadata": {},
     "output_type": "display_data"
    }
   ],
   "source": [
    "model<- read.csv(\"C:\\\\Users\\\\nikhi\\\\Documents\\\\data mining\\\\Train.csv\")\n",
    "head(model)\n",
    "names(model)"
   ]
  },
  {
   "cell_type": "code",
   "execution_count": 25,
   "metadata": {
    "collapsed": false
   },
   "outputs": [
    {
     "data": {
      "text/plain": [
       "       x1                x2              x3               x4        \n",
       " Min.   :0.00000   Min.   : 20.0   Min.   :0.0000   Min.   :0.0000  \n",
       " 1st Qu.:0.00000   1st Qu.:404.0   1st Qu.:1.0000   1st Qu.:0.0000  \n",
       " Median :0.00000   Median :404.0   Median :1.0000   Median :0.0000  \n",
       " Mean   :0.03785   Mean   :408.6   Mean   :0.8438   Mean   :0.1131  \n",
       " 3rd Qu.:0.00000   3rd Qu.:454.0   3rd Qu.:1.0000   3rd Qu.:0.0000  \n",
       " Max.   :1.00000   Max.   :999.0   Max.   :1.0000   Max.   :1.0000  \n",
       "       x5               x6                x7                x8         \n",
       " Min.   :0.0000   Min.   :0.00000   Min.   :0.00000   Min.   :0.00000  \n",
       " 1st Qu.:0.0000   1st Qu.:0.00000   1st Qu.:0.00000   1st Qu.:0.00000  \n",
       " Median :0.0000   Median :0.00000   Median :0.00000   Median :0.00000  \n",
       " Mean   :0.2377   Mean   :0.02135   Mean   :0.05337   Mean   :0.04998  \n",
       " 3rd Qu.:0.0000   3rd Qu.:0.00000   3rd Qu.:0.00000   3rd Qu.:0.00000  \n",
       " Max.   :1.0000   Max.   :1.00000   Max.   :1.00000   Max.   :1.00000  \n",
       "       x9               x10               x11              x12        \n",
       " Min.   :0.00000   Min.   :0.00000   Min.   :0.0000   Min.   :0.0000  \n",
       " 1st Qu.:0.00000   1st Qu.:0.00000   1st Qu.:0.0000   1st Qu.:0.0000  \n",
       " Median :0.00000   Median :0.00000   Median :0.0000   Median :0.0000  \n",
       " Mean   :0.03008   Mean   :0.05386   Mean   :0.4794   Mean   :0.1014  \n",
       " 3rd Qu.:0.00000   3rd Qu.:0.00000   3rd Qu.:1.0000   3rd Qu.:0.0000  \n",
       " Max.   :1.00000   Max.   :1.00000   Max.   :1.0000   Max.   :1.0000  \n",
       "      x13              x14                x15             x16        \n",
       " Min.   :0.0000   Min.   :0.000000   Min.   : 14.0   Min.   :0.0000  \n",
       " 1st Qu.:0.0000   1st Qu.:0.000000   1st Qu.: 79.0   1st Qu.:0.0000  \n",
       " Median :0.0000   Median :0.000000   Median :120.0   Median :0.0000  \n",
       " Mean   :0.1164   Mean   :0.009219   Mean   :127.2   Mean   :0.1043  \n",
       " 3rd Qu.:0.0000   3rd Qu.:0.000000   3rd Qu.:159.0   3rd Qu.:0.0000  \n",
       " Max.   :1.0000   Max.   :1.000000   Max.   :794.0   Max.   :1.0000  \n",
       "      x17               x18             x19               x20       \n",
       " Min.   :0.00000   Min.   :125.0   Min.   :0.00000   Min.   :189.0  \n",
       " 1st Qu.:0.00000   1st Qu.:562.0   1st Qu.:0.00000   1st Qu.:311.0  \n",
       " Median :0.00000   Median :624.0   Median :0.00000   Median :411.0  \n",
       " Mean   :0.03348   Mean   :633.5   Mean   :0.03493   Mean   :427.2  \n",
       " 3rd Qu.:0.00000   3rd Qu.:812.0   3rd Qu.:0.00000   3rd Qu.:511.0  \n",
       " Max.   :1.00000   Max.   :999.0   Max.   :1.00000   Max.   :999.0  \n",
       "      x21               x22               x23               x24       \n",
       " Min.   :0.00000   Min.   :0.00000   Min.   :0.00000   Min.   :  0.0  \n",
       " 1st Qu.:0.00000   1st Qu.:0.00000   1st Qu.:0.00000   1st Qu.:  0.0  \n",
       " Median :0.00000   Median :0.00000   Median :0.00000   Median :  0.0  \n",
       " Mean   :0.03202   Mean   :0.05483   Mean   :0.06599   Mean   : 24.5  \n",
       " 3rd Qu.:0.00000   3rd Qu.:0.00000   3rd Qu.:0.00000   3rd Qu.:  0.0  \n",
       " Max.   :1.00000   Max.   :1.00000   Max.   :1.00000   Max.   :845.0  \n",
       "      x25         x26              x27              x28        \n",
       " Min.   :0   Min.   :0.0000   Min.   :0.0000   Min.   :0.0000  \n",
       " 1st Qu.:0   1st Qu.:0.0000   1st Qu.:0.0000   1st Qu.:0.0000  \n",
       " Median :0   Median :0.0000   Median :0.0000   Median :0.0000  \n",
       " Mean   :0   Mean   :0.1359   Mean   :0.1232   Mean   :0.1315  \n",
       " 3rd Qu.:0   3rd Qu.:0.0000   3rd Qu.:0.0000   3rd Qu.:0.0000  \n",
       " Max.   :0   Max.   :1.0000   Max.   :1.0000   Max.   :1.0000  \n",
       "      x29              x30             x31               x32        \n",
       " Min.   :0.0000   Min.   :  0.0   Min.   :0.00000   Min.   :0.0000  \n",
       " 1st Qu.:0.0000   1st Qu.:  0.0   1st Qu.:0.00000   1st Qu.:0.0000  \n",
       " Median :1.0000   Median :  0.0   Median :0.00000   Median :1.0000  \n",
       " Mean   :0.7249   Mean   : 10.4   Mean   :0.03105   Mean   :0.6875  \n",
       " 3rd Qu.:1.0000   3rd Qu.:  0.0   3rd Qu.:0.00000   3rd Qu.:1.0000  \n",
       " Max.   :1.0000   Max.   :999.0   Max.   :1.00000   Max.   :1.0000  \n",
       "      x33              x34                x35              x36        \n",
       " Min.   :0.0000   Min.   :0.000000   Min.   :0.0000   Min.   :0.0000  \n",
       " 1st Qu.:0.0000   1st Qu.:0.000000   1st Qu.:0.0000   1st Qu.:0.0000  \n",
       " Median :0.0000   Median :0.000000   Median :0.0000   Median :0.0000  \n",
       " Mean   :0.0689   Mean   :0.007763   Mean   :0.1111   Mean   :0.1456  \n",
       " 3rd Qu.:0.0000   3rd Qu.:0.000000   3rd Qu.:0.0000   3rd Qu.:0.0000  \n",
       " Max.   :1.0000   Max.   :1.000000   Max.   :1.0000   Max.   :1.0000  \n",
       "      x37               x38                 x39              x40   \n",
       " Min.   :0.00000   Min.   :0.0000000   Min.   :0.0000   Min.   :0  \n",
       " 1st Qu.:0.00000   1st Qu.:0.0000000   1st Qu.:0.0000   1st Qu.:0  \n",
       " Median :0.00000   Median :0.0000000   Median :0.0000   Median :0  \n",
       " Mean   :0.01067   Mean   :0.0004852   Mean   :0.1067   Mean   :0  \n",
       " 3rd Qu.:0.00000   3rd Qu.:0.0000000   3rd Qu.:0.0000   3rd Qu.:0  \n",
       " Max.   :1.00000   Max.   :1.0000000   Max.   :1.0000   Max.   :0  \n",
       "      x41              x42              x43               x44        \n",
       " Min.   :0.0000   Min.   :0.0000   Min.   :0.00000   Min.   :0.0000  \n",
       " 1st Qu.:0.0000   1st Qu.:0.0000   1st Qu.:0.00000   1st Qu.:0.0000  \n",
       " Median :0.0000   Median :0.0000   Median :0.00000   Median :0.0000  \n",
       " Mean   :0.0854   Mean   :0.3222   Mean   :0.02086   Mean   :0.4226  \n",
       " 3rd Qu.:0.0000   3rd Qu.:1.0000   3rd Qu.:0.00000   3rd Qu.:1.0000  \n",
       " Max.   :1.0000   Max.   :1.0000   Max.   :1.00000   Max.   :1.0000  \n",
       "      x45                 x46              x47                x48         \n",
       " Min.   :0.0000000   Min.   :0.0000   Min.   :0.000000   Min.   :0.00000  \n",
       " 1st Qu.:0.0000000   1st Qu.:0.0000   1st Qu.:0.000000   1st Qu.:0.00000  \n",
       " Median :0.0000000   Median :0.0000   Median :0.000000   Median :0.00000  \n",
       " Mean   :0.0009704   Mean   :0.1441   Mean   :0.007278   Mean   :0.03251  \n",
       " 3rd Qu.:0.0000000   3rd Qu.:0.0000   3rd Qu.:0.000000   3rd Qu.:0.00000  \n",
       " Max.   :1.0000000   Max.   :1.0000   Max.   :1.000000   Max.   :1.00000  \n",
       "      x49          x50            x51              x52              x53        \n",
       " Min.   :0.0000   no :1460   Min.   : 0.000   Min.   :0.0000   Min.   :0.0000  \n",
       " 1st Qu.:0.2470   yes: 601   1st Qu.: 3.000   1st Qu.:0.0000   1st Qu.:0.0000  \n",
       " Median :0.4840              Median : 5.000   Median :0.0000   Median :0.0000  \n",
       " Mean   :0.4939              Mean   : 5.016   Mean   :0.1019   Mean   :0.4959  \n",
       " 3rd Qu.:0.7490              3rd Qu.: 7.000   3rd Qu.:0.0000   3rd Qu.:1.0000  \n",
       " Max.   :0.9990              Max.   :10.000   Max.   :1.0000   Max.   :1.0000  \n",
       "      x54              x55              x56              x57        \n",
       " Min.   :0.0000   Min.   :0.0000   Min.   :0.0000   Min.   :0.0000  \n",
       " 1st Qu.:0.0000   1st Qu.:0.0000   1st Qu.:0.0000   1st Qu.:0.0000  \n",
       " Median :0.0000   Median :0.0000   Median :0.0000   Median :0.0000  \n",
       " Mean   :0.3998   Mean   :0.1019   Mean   :0.3241   Mean   :0.3033  \n",
       " 3rd Qu.:1.0000   3rd Qu.:0.0000   3rd Qu.:1.0000   3rd Qu.:1.0000  \n",
       " Max.   :1.0000   Max.   :1.0000   Max.   :1.0000   Max.   :1.0000  \n",
       "      x58            x59            x60              x61        \n",
       " Min.   :0.0000   alpha: 636   Min.   :0.0000   Min.   :0.0000  \n",
       " 1st Qu.:0.0000   beta :1425   1st Qu.:0.0000   1st Qu.:0.0000  \n",
       " Median :0.0000                Median :0.0000   Median :0.0000  \n",
       " Mean   :0.2125                Mean   :0.2101   Mean   :0.1965  \n",
       " 3rd Qu.:0.0000                3rd Qu.:0.0000   3rd Qu.:0.0000  \n",
       " Max.   :1.0000                Max.   :1.0000   Max.   :1.0000  \n",
       "       y          \n",
       " Min.   :-1.0000  \n",
       " 1st Qu.:-1.0000  \n",
       " Median :-1.0000  \n",
       " Mean   :-0.5264  \n",
       " 3rd Qu.:-1.0000  \n",
       " Max.   : 1.0000  "
      ]
     },
     "metadata": {},
     "output_type": "display_data"
    },
    {
     "data": {
      "text/html": [
       "<ol class=list-inline>\n",
       "\t<li>2061</li>\n",
       "\t<li>62</li>\n",
       "</ol>\n"
      ],
      "text/latex": [
       "\\begin{enumerate*}\n",
       "\\item 2061\n",
       "\\item 62\n",
       "\\end{enumerate*}\n"
      ],
      "text/markdown": [
       "1. 2061\n",
       "2. 62\n",
       "\n",
       "\n"
      ],
      "text/plain": [
       "[1] 2061   62"
      ]
     },
     "metadata": {},
     "output_type": "display_data"
    }
   ],
   "source": [
    "summary(model)\n",
    "dim(model)"
   ]
  },
  {
   "cell_type": "code",
   "execution_count": 21,
   "metadata": {
    "collapsed": false
   },
   "outputs": [],
   "source": [
    "validationindex<- createDataPartition(model$y, p=0.8, list=FALSE)\n",
    "validation<- model[-validationindex, ]\n",
    "training<- model[validationindex, ]"
   ]
  },
  {
   "cell_type": "code",
   "execution_count": 23,
   "metadata": {
    "collapsed": false
   },
   "outputs": [
    {
     "data": {
      "text/html": [
       "<table>\n",
       "<thead><tr><th></th><th scope=col>x1</th><th scope=col>x2</th><th scope=col>x3</th><th scope=col>x4</th><th scope=col>x5</th><th scope=col>x6</th><th scope=col>x7</th><th scope=col>x8</th><th scope=col>x9</th><th scope=col>x10</th><th scope=col>...</th><th scope=col>x53</th><th scope=col>x54</th><th scope=col>x55</th><th scope=col>x56</th><th scope=col>x57</th><th scope=col>x58</th><th scope=col>x59</th><th scope=col>x60</th><th scope=col>x61</th><th scope=col>y</th></tr></thead>\n",
       "<tbody>\n",
       "\t<tr><th scope=row>1</th><td>0    </td><td>404  </td><td>1    </td><td>0    </td><td>0    </td><td>0    </td><td>0    </td><td>0    </td><td>0    </td><td>0    </td><td>...  </td><td>0    </td><td>1    </td><td>0    </td><td>1    </td><td>0    </td><td>1    </td><td>beta </td><td>0    </td><td>0    </td><td>-1   </td></tr>\n",
       "\t<tr><th scope=row>2</th><td>0    </td><td>404  </td><td>1    </td><td>0    </td><td>0    </td><td>0    </td><td>0    </td><td>0    </td><td>0    </td><td>0    </td><td>...  </td><td>1    </td><td>0    </td><td>0    </td><td>1    </td><td>0    </td><td>0    </td><td>beta </td><td>1    </td><td>0    </td><td>-1   </td></tr>\n",
       "\t<tr><th scope=row>3</th><td>0    </td><td>303  </td><td>1    </td><td>0    </td><td>0    </td><td>0    </td><td>0    </td><td>0    </td><td>0    </td><td>1    </td><td>...  </td><td>0    </td><td>0    </td><td>0    </td><td>0    </td><td>0    </td><td>0    </td><td>alpha</td><td>0    </td><td>0    </td><td>-1   </td></tr>\n",
       "\t<tr><th scope=row>5</th><td>0    </td><td>454  </td><td>1    </td><td>0    </td><td>0    </td><td>0    </td><td>0    </td><td>0    </td><td>0    </td><td>0    </td><td>...  </td><td>0    </td><td>1    </td><td>0    </td><td>0    </td><td>0    </td><td>0    </td><td>beta </td><td>0    </td><td>1    </td><td> 1   </td></tr>\n",
       "\t<tr><th scope=row>6</th><td>0    </td><td>383  </td><td>1    </td><td>1    </td><td>0    </td><td>0    </td><td>0    </td><td>0    </td><td>0    </td><td>0    </td><td>...  </td><td>1    </td><td>0    </td><td>0    </td><td>0    </td><td>1    </td><td>0    </td><td>alpha</td><td>0    </td><td>0    </td><td>-1   </td></tr>\n",
       "\t<tr><th scope=row>7</th><td>0    </td><td>404  </td><td>0    </td><td>0    </td><td>0    </td><td>0    </td><td>0    </td><td>0    </td><td>0    </td><td>0    </td><td>...  </td><td>0    </td><td>1    </td><td>0    </td><td>0    </td><td>0    </td><td>0    </td><td>alpha</td><td>1    </td><td>1    </td><td> 1   </td></tr>\n",
       "</tbody>\n",
       "</table>\n"
      ],
      "text/latex": [
       "\\begin{tabular}{r|llllllllllllllllllllllllllllllllllllllllllllllllllllllllllllll}\n",
       "  & x1 & x2 & x3 & x4 & x5 & x6 & x7 & x8 & x9 & x10 & ... & x53 & x54 & x55 & x56 & x57 & x58 & x59 & x60 & x61 & y\\\\\n",
       "\\hline\n",
       "\t1 & 0     & 404   & 1     & 0     & 0     & 0     & 0     & 0     & 0     & 0     & ...   & 0     & 1     & 0     & 1     & 0     & 1     & beta  & 0     & 0     & -1   \\\\\n",
       "\t2 & 0     & 404   & 1     & 0     & 0     & 0     & 0     & 0     & 0     & 0     & ...   & 1     & 0     & 0     & 1     & 0     & 0     & beta  & 1     & 0     & -1   \\\\\n",
       "\t3 & 0     & 303   & 1     & 0     & 0     & 0     & 0     & 0     & 0     & 1     & ...   & 0     & 0     & 0     & 0     & 0     & 0     & alpha & 0     & 0     & -1   \\\\\n",
       "\t5 & 0     & 454   & 1     & 0     & 0     & 0     & 0     & 0     & 0     & 0     & ...   & 0     & 1     & 0     & 0     & 0     & 0     & beta  & 0     & 1     &  1   \\\\\n",
       "\t6 & 0     & 383   & 1     & 1     & 0     & 0     & 0     & 0     & 0     & 0     & ...   & 1     & 0     & 0     & 0     & 1     & 0     & alpha & 0     & 0     & -1   \\\\\n",
       "\t7 & 0     & 404   & 0     & 0     & 0     & 0     & 0     & 0     & 0     & 0     & ...   & 0     & 1     & 0     & 0     & 0     & 0     & alpha & 1     & 1     &  1   \\\\\n",
       "\\end{tabular}\n"
      ],
      "text/markdown": [
       "\n",
       "| <!--/--> | x1 | x2 | x3 | x4 | x5 | x6 | x7 | x8 | x9 | x10 | ... | x53 | x54 | x55 | x56 | x57 | x58 | x59 | x60 | x61 | y | \n",
       "|---|---|---|---|---|---|\n",
       "| 1 | 0     | 404   | 1     | 0     | 0     | 0     | 0     | 0     | 0     | 0     | ...   | 0     | 1     | 0     | 1     | 0     | 1     | beta  | 0     | 0     | -1    | \n",
       "| 2 | 0     | 404   | 1     | 0     | 0     | 0     | 0     | 0     | 0     | 0     | ...   | 1     | 0     | 0     | 1     | 0     | 0     | beta  | 1     | 0     | -1    | \n",
       "| 3 | 0     | 303   | 1     | 0     | 0     | 0     | 0     | 0     | 0     | 1     | ...   | 0     | 0     | 0     | 0     | 0     | 0     | alpha | 0     | 0     | -1    | \n",
       "| 5 | 0     | 454   | 1     | 0     | 0     | 0     | 0     | 0     | 0     | 0     | ...   | 0     | 1     | 0     | 0     | 0     | 0     | beta  | 0     | 1     |  1    | \n",
       "| 6 | 0     | 383   | 1     | 1     | 0     | 0     | 0     | 0     | 0     | 0     | ...   | 1     | 0     | 0     | 0     | 1     | 0     | alpha | 0     | 0     | -1    | \n",
       "| 7 | 0     | 404   | 0     | 0     | 0     | 0     | 0     | 0     | 0     | 0     | ...   | 0     | 1     | 0     | 0     | 0     | 0     | alpha | 1     | 1     |  1    | \n",
       "\n",
       "\n"
      ],
      "text/plain": [
       "  x1 x2  x3 x4 x5 x6 x7 x8 x9 x10 ... x53 x54 x55 x56 x57 x58 x59   x60 x61 y \n",
       "1 0  404 1  0  0  0  0  0  0  0   ... 0   1   0   1   0   1   beta  0   0   -1\n",
       "2 0  404 1  0  0  0  0  0  0  0   ... 1   0   0   1   0   0   beta  1   0   -1\n",
       "3 0  303 1  0  0  0  0  0  0  1   ... 0   0   0   0   0   0   alpha 0   0   -1\n",
       "5 0  454 1  0  0  0  0  0  0  0   ... 0   1   0   0   0   0   beta  0   1    1\n",
       "6 0  383 1  1  0  0  0  0  0  0   ... 1   0   0   0   1   0   alpha 0   0   -1\n",
       "7 0  404 0  0  0  0  0  0  0  0   ... 0   1   0   0   0   0   alpha 1   1    1"
      ]
     },
     "metadata": {},
     "output_type": "display_data"
    },
    {
     "data": {
      "text/html": [
       "<table>\n",
       "<thead><tr><th></th><th scope=col>x1</th><th scope=col>x2</th><th scope=col>x3</th><th scope=col>x4</th><th scope=col>x5</th><th scope=col>x6</th><th scope=col>x7</th><th scope=col>x8</th><th scope=col>x9</th><th scope=col>x10</th><th scope=col>...</th><th scope=col>x53</th><th scope=col>x54</th><th scope=col>x55</th><th scope=col>x56</th><th scope=col>x57</th><th scope=col>x58</th><th scope=col>x59</th><th scope=col>x60</th><th scope=col>x61</th><th scope=col>y</th></tr></thead>\n",
       "<tbody>\n",
       "\t<tr><th scope=row>4</th><td>0    </td><td>454  </td><td>1    </td><td>0    </td><td>0    </td><td>0    </td><td>0    </td><td>0    </td><td>0    </td><td>0    </td><td>...  </td><td>1    </td><td>1    </td><td>0    </td><td>0    </td><td>0    </td><td>1    </td><td>beta </td><td>0    </td><td>0    </td><td>-1   </td></tr>\n",
       "\t<tr><th scope=row>10</th><td>0    </td><td>404  </td><td>1    </td><td>0    </td><td>0    </td><td>0    </td><td>0    </td><td>0    </td><td>0    </td><td>0    </td><td>...  </td><td>1    </td><td>0    </td><td>0    </td><td>1    </td><td>0    </td><td>1    </td><td>alpha</td><td>0    </td><td>0    </td><td>-1   </td></tr>\n",
       "\t<tr><th scope=row>12</th><td>1    </td><td>404  </td><td>0    </td><td>0    </td><td>0    </td><td>0    </td><td>0    </td><td>0    </td><td>0    </td><td>0    </td><td>...  </td><td>1    </td><td>0    </td><td>0    </td><td>0    </td><td>0    </td><td>1    </td><td>alpha</td><td>1    </td><td>0    </td><td>-1   </td></tr>\n",
       "\t<tr><th scope=row>15</th><td>0    </td><td>505  </td><td>0    </td><td>0    </td><td>0    </td><td>0    </td><td>0    </td><td>0    </td><td>0    </td><td>0    </td><td>...  </td><td>1    </td><td>0    </td><td>0    </td><td>0    </td><td>0    </td><td>0    </td><td>beta </td><td>0    </td><td>0    </td><td> 1   </td></tr>\n",
       "\t<tr><th scope=row>17</th><td>0    </td><td>283  </td><td>1    </td><td>0    </td><td>0    </td><td>0    </td><td>0    </td><td>0    </td><td>0    </td><td>0    </td><td>...  </td><td>1    </td><td>0    </td><td>0    </td><td>1    </td><td>0    </td><td>0    </td><td>alpha</td><td>0    </td><td>0    </td><td>-1   </td></tr>\n",
       "\t<tr><th scope=row>26</th><td>0    </td><td>706  </td><td>0    </td><td>0    </td><td>0    </td><td>0    </td><td>0    </td><td>0    </td><td>0    </td><td>0    </td><td>...  </td><td>1    </td><td>0    </td><td>0    </td><td>1    </td><td>0    </td><td>0    </td><td>beta </td><td>0    </td><td>1    </td><td>-1   </td></tr>\n",
       "</tbody>\n",
       "</table>\n"
      ],
      "text/latex": [
       "\\begin{tabular}{r|llllllllllllllllllllllllllllllllllllllllllllllllllllllllllllll}\n",
       "  & x1 & x2 & x3 & x4 & x5 & x6 & x7 & x8 & x9 & x10 & ... & x53 & x54 & x55 & x56 & x57 & x58 & x59 & x60 & x61 & y\\\\\n",
       "\\hline\n",
       "\t4 & 0     & 454   & 1     & 0     & 0     & 0     & 0     & 0     & 0     & 0     & ...   & 1     & 1     & 0     & 0     & 0     & 1     & beta  & 0     & 0     & -1   \\\\\n",
       "\t10 & 0     & 404   & 1     & 0     & 0     & 0     & 0     & 0     & 0     & 0     & ...   & 1     & 0     & 0     & 1     & 0     & 1     & alpha & 0     & 0     & -1   \\\\\n",
       "\t12 & 1     & 404   & 0     & 0     & 0     & 0     & 0     & 0     & 0     & 0     & ...   & 1     & 0     & 0     & 0     & 0     & 1     & alpha & 1     & 0     & -1   \\\\\n",
       "\t15 & 0     & 505   & 0     & 0     & 0     & 0     & 0     & 0     & 0     & 0     & ...   & 1     & 0     & 0     & 0     & 0     & 0     & beta  & 0     & 0     &  1   \\\\\n",
       "\t17 & 0     & 283   & 1     & 0     & 0     & 0     & 0     & 0     & 0     & 0     & ...   & 1     & 0     & 0     & 1     & 0     & 0     & alpha & 0     & 0     & -1   \\\\\n",
       "\t26 & 0     & 706   & 0     & 0     & 0     & 0     & 0     & 0     & 0     & 0     & ...   & 1     & 0     & 0     & 1     & 0     & 0     & beta  & 0     & 1     & -1   \\\\\n",
       "\\end{tabular}\n"
      ],
      "text/markdown": [
       "\n",
       "| <!--/--> | x1 | x2 | x3 | x4 | x5 | x6 | x7 | x8 | x9 | x10 | ... | x53 | x54 | x55 | x56 | x57 | x58 | x59 | x60 | x61 | y | \n",
       "|---|---|---|---|---|---|\n",
       "| 4 | 0     | 454   | 1     | 0     | 0     | 0     | 0     | 0     | 0     | 0     | ...   | 1     | 1     | 0     | 0     | 0     | 1     | beta  | 0     | 0     | -1    | \n",
       "| 10 | 0     | 404   | 1     | 0     | 0     | 0     | 0     | 0     | 0     | 0     | ...   | 1     | 0     | 0     | 1     | 0     | 1     | alpha | 0     | 0     | -1    | \n",
       "| 12 | 1     | 404   | 0     | 0     | 0     | 0     | 0     | 0     | 0     | 0     | ...   | 1     | 0     | 0     | 0     | 0     | 1     | alpha | 1     | 0     | -1    | \n",
       "| 15 | 0     | 505   | 0     | 0     | 0     | 0     | 0     | 0     | 0     | 0     | ...   | 1     | 0     | 0     | 0     | 0     | 0     | beta  | 0     | 0     |  1    | \n",
       "| 17 | 0     | 283   | 1     | 0     | 0     | 0     | 0     | 0     | 0     | 0     | ...   | 1     | 0     | 0     | 1     | 0     | 0     | alpha | 0     | 0     | -1    | \n",
       "| 26 | 0     | 706   | 0     | 0     | 0     | 0     | 0     | 0     | 0     | 0     | ...   | 1     | 0     | 0     | 1     | 0     | 0     | beta  | 0     | 1     | -1    | \n",
       "\n",
       "\n"
      ],
      "text/plain": [
       "   x1 x2  x3 x4 x5 x6 x7 x8 x9 x10 ... x53 x54 x55 x56 x57 x58 x59   x60 x61 y \n",
       "4  0  454 1  0  0  0  0  0  0  0   ... 1   1   0   0   0   1   beta  0   0   -1\n",
       "10 0  404 1  0  0  0  0  0  0  0   ... 1   0   0   1   0   1   alpha 0   0   -1\n",
       "12 1  404 0  0  0  0  0  0  0  0   ... 1   0   0   0   0   1   alpha 1   0   -1\n",
       "15 0  505 0  0  0  0  0  0  0  0   ... 1   0   0   0   0   0   beta  0   0    1\n",
       "17 0  283 1  0  0  0  0  0  0  0   ... 1   0   0   1   0   0   alpha 0   0   -1\n",
       "26 0  706 0  0  0  0  0  0  0  0   ... 1   0   0   1   0   0   beta  0   1   -1"
      ]
     },
     "metadata": {},
     "output_type": "display_data"
    }
   ],
   "source": [
    "head(training)\n",
    "head(validation)"
   ]
  },
  {
   "cell_type": "markdown",
   "metadata": {
    "collapsed": true
   },
   "source": [
    "3. Summarize Dataset\n",
    "\n",
    "Now it is time to take a look at the data.\n",
    "\n",
    "In this step we are going to take a look at the data a few different ways:\n",
    "\n",
    "Dimensions of the dataset.\n",
    "Types of the attributes.\n",
    "Peek at the data itself.\n",
    "Levels of the class attribute.\n",
    "Breakdown of the instances in each class.\n",
    "Statistical summary of all attributes.\n",
    "\n",
    "3.1 Dimensions of Dataset\n",
    "\n",
    "We can get a quick idea of how many instances (rows) and how many attributes (columns) the data contains with the dim function."
   ]
  },
  {
   "cell_type": "code",
   "execution_count": 26,
   "metadata": {
    "collapsed": false
   },
   "outputs": [
    {
     "ename": "ERROR",
     "evalue": "Error in eval(expr, envir, enclos): object 'dataset' not found\n",
     "output_type": "error",
     "traceback": [
      "Error in eval(expr, envir, enclos): object 'dataset' not found\nTraceback:\n"
     ]
    }
   ],
   "source": [
    "# split input and output\n",
    "x <- dataset[,1:61]\n",
    "y <- dataset[,62]"
   ]
  },
  {
   "cell_type": "code",
   "execution_count": 27,
   "metadata": {
    "collapsed": true
   },
   "outputs": [],
   "source": [
    "# split input and output\n",
    "x <- training[,1:4]\n",
    "y <- training[,5]"
   ]
  },
  {
   "cell_type": "code",
   "execution_count": 28,
   "metadata": {
    "collapsed": true
   },
   "outputs": [],
   "source": [
    "# split input and output\n",
    "x <- training[,1:61]\n",
    "y <- training[,62]"
   ]
  },
  {
   "cell_type": "code",
   "execution_count": 37,
   "metadata": {
    "collapsed": false
   },
   "outputs": [
    {
     "data": {
      "image/png": "[encoded data removed]",
      "text/plain": [
       "plot without title"
      ]
     },
     "metadata": {},
     "output_type": "display_data"
    }
   ],
   "source": [
    "# boxplot for each attribute on one image\n",
    "par(mfrow=c(1,6))\n",
    "  for(i in 1:6) {\n",
    "  boxplot(x[,i])\n",
    "}"
   ]
  },
  {
   "cell_type": "code",
   "execution_count": 30,
   "metadata": {
    "collapsed": true
   },
   "outputs": [],
   "source": [
    "# Run algorithms using 10-fold cross validation\n",
    "control <- trainControl(method=\"cv\", number=10)\n",
    "metric <- \"Accuracy\""
   ]
  },
  {
   "cell_type": "code",
   "execution_count": 39,
   "metadata": {
    "collapsed": false
   },
   "outputs": [
    {
     "name": "stderr",
     "output_type": "stream",
     "text": [
      "Warning message in train.default(x, y, weights = w, ...):\n",
      "\"You are trying to do regression and your outcome only has two possible values Are you trying to do classification? If so, use a 2 level factor as your outcome column.\"Warning message in nominalTrainWorkflow(x = x, y = y, wts = weights, info = trainInfo, :\n",
      "\"There were missing values in resampled performance measures.\"Warning message in train.default(x, y, weights = w, ...):\n",
      "\"You are trying to do regression and your outcome only has two possible values Are you trying to do classification? If so, use a 2 level factor as your outcome column.\"Loading required package: kernlab\n",
      "Warning message:\n",
      "\"package 'kernlab' was built under R version 3.3.2\"\n",
      "Attaching package: 'kernlab'\n",
      "\n",
      "The following object is masked from 'package:ggplot2':\n",
      "\n",
      "    alpha\n",
      "\n",
      "Warning message in train.default(x, y, weights = w, ...):\n",
      "\"You are trying to do regression and your outcome only has two possible values Are you trying to do classification? If so, use a 2 level factor as your outcome column.\"Warning message in .local(x, ...):\n",
      "\"Variable(s) `' constant. Cannot scale data.\"Warning message in .local(x, ...):\n",
      "\"Variable(s) `' constant. Cannot scale data.\"Warning message in .local(x, ...):\n",
      "\"Variable(s) `' constant. Cannot scale data.\"Warning message in .local(x, ...):\n",
      "\"Variable(s) `' constant. Cannot scale data.\"Warning message in .local(x, ...):\n",
      "\"Variable(s) `' constant. Cannot scale data.\"Warning message in .local(x, ...):\n",
      "\"Variable(s) `' constant. Cannot scale data.\"Warning message in .local(x, ...):\n",
      "\"Variable(s) `' constant. Cannot scale data.\"Warning message in .local(x, ...):\n",
      "\"Variable(s) `' constant. Cannot scale data.\"Warning message in .local(x, ...):\n",
      "\"Variable(s) `' constant. Cannot scale data.\"Warning message in .local(x, ...):\n",
      "\"Variable(s) `' constant. Cannot scale data.\"Warning message in .local(x, ...):\n",
      "\"Variable(s) `' constant. Cannot scale data.\"Warning message in .local(x, ...):\n",
      "\"Variable(s) `' constant. Cannot scale data.\"Warning message in .local(x, ...):\n",
      "\"Variable(s) `' constant. Cannot scale data.\"Warning message in .local(x, ...):\n",
      "\"Variable(s) `' constant. Cannot scale data.\"Warning message in .local(x, ...):\n",
      "\"Variable(s) `' constant. Cannot scale data.\"Warning message in .local(x, ...):\n",
      "\"Variable(s) `' constant. Cannot scale data.\"Warning message in .local(x, ...):\n",
      "\"Variable(s) `' constant. Cannot scale data.\"Warning message in .local(x, ...):\n",
      "\"Variable(s) `' constant. Cannot scale data.\"Warning message in .local(x, ...):\n",
      "\"Variable(s) `' constant. Cannot scale data.\"Warning message in .local(x, ...):\n",
      "\"Variable(s) `' constant. Cannot scale data.\"Warning message in .local(x, ...):\n",
      "\"Variable(s) `' constant. Cannot scale data.\"Warning message in .local(x, ...):\n",
      "\"Variable(s) `' constant. Cannot scale data.\"Warning message in .local(x, ...):\n",
      "\"Variable(s) `' constant. Cannot scale data.\"Warning message in .local(x, ...):\n",
      "\"Variable(s) `' constant. Cannot scale data.\"Warning message in .local(x, ...):\n",
      "\"Variable(s) `' constant. Cannot scale data.\"Warning message in .local(x, ...):\n",
      "\"Variable(s) `' constant. Cannot scale data.\"Warning message in .local(x, ...):\n",
      "\"Variable(s) `' constant. Cannot scale data.\"Warning message in .local(x, ...):\n",
      "\"Variable(s) `' constant. Cannot scale data.\"Warning message in .local(x, ...):\n",
      "\"Variable(s) `' constant. Cannot scale data.\"Warning message in .local(x, ...):\n",
      "\"Variable(s) `' constant. Cannot scale data.\"Warning message in .local(x, ...):\n",
      "\"Variable(s) `' constant. Cannot scale data.\"Warning message in .local(x, ...):\n",
      "\"Variable(s) `' constant. Cannot scale data.\"Loading required package: randomForest\n",
      "Warning message:\n",
      "\"package 'randomForest' was built under R version 3.3.2\"randomForest 4.6-12\n",
      "Type rfNews() to see new features/changes/bug fixes.\n",
      "\n",
      "Attaching package: 'randomForest'\n",
      "\n",
      "The following object is masked from 'package:ggplot2':\n",
      "\n",
      "    margin\n",
      "\n",
      "Warning message in train.default(x, y, weights = w, ...):\n",
      "\"You are trying to do regression and your outcome only has two possible values Are you trying to do classification? If so, use a 2 level factor as your outcome column.\"Warning message in randomForest.default(x, y, mtry = param$mtry, ...):\n",
      "\"The response has five or fewer unique values.  Are you sure you want to do regression?\"Warning message in randomForest.default(x, y, mtry = param$mtry, ...):\n",
      "\"The response has five or fewer unique values.  Are you sure you want to do regression?\"Warning message in randomForest.default(x, y, mtry = param$mtry, ...):\n",
      "\"The response has five or fewer unique values.  Are you sure you want to do regression?\"Warning message in randomForest.default(x, y, mtry = param$mtry, ...):\n",
      "\"The response has five or fewer unique values.  Are you sure you want to do regression?\"Warning message in randomForest.default(x, y, mtry = param$mtry, ...):\n",
      "\"The response has five or fewer unique values.  Are you sure you want to do regression?\"Warning message in randomForest.default(x, y, mtry = param$mtry, ...):\n",
      "\"The response has five or fewer unique values.  Are you sure you want to do regression?\"Warning message in randomForest.default(x, y, mtry = param$mtry, ...):\n",
      "\"The response has five or fewer unique values.  Are you sure you want to do regression?\"Warning message in randomForest.default(x, y, mtry = param$mtry, ...):\n",
      "\"The response has five or fewer unique values.  Are you sure you want to do regression?\"Warning message in randomForest.default(x, y, mtry = param$mtry, ...):\n",
      "\"The response has five or fewer unique values.  Are you sure you want to do regression?\"Warning message in randomForest.default(x, y, mtry = param$mtry, ...):\n",
      "\"The response has five or fewer unique values.  Are you sure you want to do regression?\"Warning message in randomForest.default(x, y, mtry = param$mtry, ...):\n",
      "\"The response has five or fewer unique values.  Are you sure you want to do regression?\"Warning message in randomForest.default(x, y, mtry = param$mtry, ...):\n",
      "\"The response has five or fewer unique values.  Are you sure you want to do regression?\"Warning message in randomForest.default(x, y, mtry = param$mtry, ...):\n",
      "\"The response has five or fewer unique values.  Are you sure you want to do regression?\"Warning message in randomForest.default(x, y, mtry = param$mtry, ...):\n",
      "\"The response has five or fewer unique values.  Are you sure you want to do regression?\"Warning message in randomForest.default(x, y, mtry = param$mtry, ...):\n",
      "\"The response has five or fewer unique values.  Are you sure you want to do regression?\"Warning message in randomForest.default(x, y, mtry = param$mtry, ...):\n",
      "\"The response has five or fewer unique values.  Are you sure you want to do regression?\"Warning message in randomForest.default(x, y, mtry = param$mtry, ...):\n",
      "\"The response has five or fewer unique values.  Are you sure you want to do regression?\"Warning message in randomForest.default(x, y, mtry = param$mtry, ...):\n",
      "\"The response has five or fewer unique values.  Are you sure you want to do regression?\"Warning message in randomForest.default(x, y, mtry = param$mtry, ...):\n",
      "\"The response has five or fewer unique values.  Are you sure you want to do regression?\"Warning message in randomForest.default(x, y, mtry = param$mtry, ...):\n",
      "\"The response has five or fewer unique values.  Are you sure you want to do regression?\"Warning message in randomForest.default(x, y, mtry = param$mtry, ...):\n",
      "\"The response has five or fewer unique values.  Are you sure you want to do regression?\"Warning message in randomForest.default(x, y, mtry = param$mtry, ...):\n",
      "\"The response has five or fewer unique values.  Are you sure you want to do regression?\"Warning message in randomForest.default(x, y, mtry = param$mtry, ...):\n",
      "\"The response has five or fewer unique values.  Are you sure you want to do regression?\"Warning message in randomForest.default(x, y, mtry = param$mtry, ...):\n",
      "\"The response has five or fewer unique values.  Are you sure you want to do regression?\"Warning message in randomForest.default(x, y, mtry = param$mtry, ...):\n",
      "\"The response has five or fewer unique values.  Are you sure you want to do regression?\"Warning message in randomForest.default(x, y, mtry = param$mtry, ...):\n",
      "\"The response has five or fewer unique values.  Are you sure you want to do regression?\"Warning message in randomForest.default(x, y, mtry = param$mtry, ...):\n",
      "\"The response has five or fewer unique values.  Are you sure you want to do regression?\"Warning message in randomForest.default(x, y, mtry = param$mtry, ...):\n",
      "\"The response has five or fewer unique values.  Are you sure you want to do regression?\"Warning message in randomForest.default(x, y, mtry = param$mtry, ...):\n",
      "\"The response has five or fewer unique values.  Are you sure you want to do regression?\"Warning message in randomForest.default(x, y, mtry = param$mtry, ...):\n",
      "\"The response has five or fewer unique values.  Are you sure you want to do regression?\"Warning message in randomForest.default(x, y, mtry = param$mtry, ...):\n",
      "\"The response has five or fewer unique values.  Are you sure you want to do regression?\""
     ]
    }
   ],
   "source": [
    "\n",
    "set.seed(7)\n",
    "fit.cart <- train(y~., data=training, method=\"rpart\", trControl=control)\n",
    "# kNN\n",
    "set.seed(7)\n",
    "fit.knn <- train(y~., data=training, method=\"knn\", trControl=control)\n",
    "# c) advanced algorithms\n",
    "# SVM\n",
    "set.seed(7)\n",
    "fit.svm <- train(y~., data=training, method=\"svmRadial\", trControl=control)\n",
    "# Random Forest\n",
    "set.seed(7)\n",
    "fit.rf <- train(y~., data=training, method=\"rf\", trControl=control)"
   ]
  },
  {
   "cell_type": "code",
   "execution_count": 40,
   "metadata": {
    "collapsed": false
   },
   "outputs": [
    {
     "data": {
      "text/plain": [
       "\n",
       "Call:\n",
       "summary.resamples(object = results)\n",
       "\n",
       "Models: cart, knn, svm, rf \n",
       "Number of resamples: 10 \n",
       "\n",
       "RMSE \n",
       "       Min. 1st Qu. Median   Mean 3rd Qu.   Max. NA's\n",
       "cart 0.6750  0.7045 0.7331 0.7329  0.7580 0.7851    0\n",
       "knn  0.7222  0.7335 0.7459 0.7684  0.7713 0.8850    0\n",
       "svm  0.6975  0.7168 0.7675 0.7681  0.7952 0.8695    0\n",
       "rf   0.6067  0.6488 0.6592 0.6603  0.6758 0.7014    0\n",
       "\n",
       "Rsquared \n",
       "        Min. 1st Qu. Median   Mean 3rd Qu.   Max. NA's\n",
       "cart 0.11770  0.2019 0.2287 0.2603  0.3458 0.3945    0\n",
       "knn  0.09556  0.1651 0.2166 0.1966  0.2353 0.2577    0\n",
       "svm  0.16940  0.2071 0.2301 0.2272  0.2411 0.2770    0\n",
       "rf   0.25900  0.3571 0.4012 0.3946  0.4486 0.4633    0\n"
      ]
     },
     "metadata": {},
     "output_type": "display_data"
    }
   ],
   "source": [
    "# summarize accuracy of models\n",
    "results <- resamples(list(cart=fit.cart, knn=fit.knn, svm=fit.svm, rf=fit.rf))\n",
    "summary(results)"
   ]
  },
  {
   "cell_type": "code",
   "execution_count": 41,
   "metadata": {
    "collapsed": false
   },
   "outputs": [
    {
     "data": {},
     "metadata": {},
     "output_type": "display_data"
    },
    {
     "data": {
      "image/png": "[encoded data removed]",
      "text/plain": [
       "plot without title"
      ]
     },
     "metadata": {},
     "output_type": "display_data"
    }
   ],
   "source": [
    "dotplot(results)"
   ]
  }
 ],
 "metadata": {
  "kernelspec": {
   "display_name": "R",
   "language": "R",
   "name": "ir"
  },
  "language_info": {
   "codemirror_mode": "r",
   "file_extension": ".r",
   "mimetype": "text/x-r-source",
   "name": "R",
   "pygments_lexer": "r",
   "version": "3.3.1"
  }
 },
 "nbformat": 4,
 "nbformat_minor": 2
}
